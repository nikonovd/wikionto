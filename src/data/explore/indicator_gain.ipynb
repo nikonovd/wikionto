{
 "cells": [
  {
   "cell_type": "markdown",
   "metadata": {},
   "source": [
    "# Initial Loading"
   ]
  },
  {
   "cell_type": "code",
   "execution_count": 6,
   "metadata": {},
   "outputs": [
    {
     "name": "stdout",
     "output_type": "stream",
     "text": [
      "Loaded article dictionary with a total number of 134480 articles.\n"
     ]
    }
   ],
   "source": [
    "from json import load\n",
    "DATAP = \"C:\\Programmierung\\Repos\\WikiOnto\\data\"\n",
    "ad = load(open(DATAP+\"/articledict.json\", \"r\"))\n",
    "print(\"Loaded article dictionary with a total number of \"+str(len(ad)) + \" articles.\")"
   ]
  },
  {
   "cell_type": "code",
   "execution_count": 7,
   "metadata": {},
   "outputs": [
    {
     "name": "stdout",
     "output_type": "stream",
     "text": [
      "There are 321 seed articles from TIOBE and GitHub.\n"
     ]
    }
   ],
   "source": [
    "seed = [a for a in ad if ad[a][\"Seed\"]]\n",
    "print(\"There are \" + str(len(seed)) + \" seed articles from TIOBE and GitHub.\")"
   ]
  },
  {
   "cell_type": "markdown",
   "metadata": {},
   "source": [
    "## Set Up - Infobox Indicator"
   ]
  },
  {
   "cell_type": "markdown",
   "metadata": {},
   "source": [
    "### Seed Exploration"
   ]
  },
  {
   "cell_type": "code",
   "execution_count": 17,
   "metadata": {},
   "outputs": [
    {
     "name": "stdout",
     "output_type": "stream",
     "text": [
      "  264 seed articles have an infobox\n"
     ]
    }
   ],
   "source": [
    "# Infobox templates are saved at the key \"DbpediaInfoboxTemplate\"\n",
    "seed_infobox = [a for a in ad if \"DbpediaInfoboxTemplate\" in ad[a] and ad[a][\"Seed\"]]\n",
    "print(\"  \"+str(len(seed_infobox)) + \" seed articles have an infobox\")"
   ]
  },
  {
   "cell_type": "code",
   "execution_count": 18,
   "metadata": {},
   "outputs": [
    {
     "name": "stdout",
     "output_type": "stream",
     "text": [
      "*  infobox_programming_language : 213\n",
      "*  infobox_software : 31\n",
      "*  infobox_file_format : 33\n",
      "*  infobox_software_license : 1\n",
      "*  infobox_technology_standard : 3\n"
     ]
    }
   ],
   "source": [
    "# We count Infobox template frequencies\n",
    "from collections import Counter\n",
    "templates = [template for a in ad if \"DbpediaInfoboxTemplate\" in ad[a] for template in set(ad[a][\"DbpediaInfoboxTemplate\"])\n",
    "             if ad[a][\"Seed\"]]\n",
    "counter = Counter(templates)\n",
    "for infobox, count in counter.items():\n",
    "    print(\"*  \"+infobox + \" : \" + str(count))"
   ]
  },
  {
   "cell_type": "markdown",
   "metadata": {},
   "source": [
    "### Initial Configuration"
   ]
  },
  {
   "cell_type": "code",
   "execution_count": 19,
   "metadata": {},
   "outputs": [
    {
     "name": "stdout",
     "output_type": "stream",
     "text": [
      "238 seed articles have a positive infobox\n",
      "The recall for the seed is 74.14330218068535%\n"
     ]
    }
   ],
   "source": [
    "# We configured programming_language and file_format as positive infoboxes!\n",
    "seed_infobox_positive = [a for a in ad if ad[a][\"PositiveInfobox\"] and ad[a][\"Seed\"]]\n",
    "print(str(len(seed_infobox_positive)) + \" seed articles have a positive infobox\")\n",
    "print(\"The recall for the seed is \" + str(100 * (len(seed_infobox_positive) / len(seed))) + \"%\")"
   ]
  },
  {
   "cell_type": "markdown",
   "metadata": {},
   "source": [
    "### Unseen Data Statistics"
   ]
  },
  {
   "cell_type": "code",
   "execution_count": 20,
   "metadata": {},
   "outputs": [
    {
     "name": "stdout",
     "output_type": "stream",
     "text": [
      "53122 articles in the scope have an infobox\n",
      "885 articles in the scope have a positive infobox\n"
     ]
    }
   ],
   "source": [
    "# First estimate for unseen data\n",
    "articles_infobox = [a for a in ad if \"DbpediaInfoboxTemplate\" in ad[a]]\n",
    "print(str(len(articles_infobox)) + \" articles in the scope have an infobox\")\n",
    "articles_infobox_positive = [a for a in ad if ad[a][\"PositiveInfobox\"]]\n",
    "print(str(len(articles_infobox_positive)) + \" articles in the scope have a positive infobox\")"
   ]
  },
  {
   "cell_type": "markdown",
   "metadata": {},
   "source": [
    "## Set Up - URL Pattern Indicator"
   ]
  },
  {
   "cell_type": "markdown",
   "metadata": {},
   "source": [
    "### Seed Exploration"
   ]
  },
  {
   "cell_type": "code",
   "execution_count": 21,
   "metadata": {},
   "outputs": [
    {
     "name": "stdout",
     "output_type": "stream",
     "text": [
      "  264 seed articles have a URL pattern\n"
     ]
    }
   ],
   "source": [
    "# URL Patterns have to be mined from titles\n",
    "seed_urlpattern = [a for a in ad if \"(\" in a and ad[a][\"Seed\"]]\n",
    "print(\"  \"+str(len(infoboxavailable)) + \" seed articles have a URL pattern\")"
   ]
  },
  {
   "cell_type": "code",
   "execution_count": 32,
   "metadata": {},
   "outputs": [
    {
     "name": "stdout",
     "output_type": "stream",
     "text": [
      "Word frequencies in title braces with frequency > 5.\n",
      "  programming : 115\n",
      "  language : 126\n",
      "  software : 6\n",
      "\n",
      "113 seed articles have (programming_language)\n"
     ]
    }
   ],
   "source": [
    "# We count words inside of braces in titles\n",
    "urlwords = [urlword for a in ad if '(' in a for urlword in a.split('(')[1].split(')')[0].split('_') if ad[a][\"Seed\"]]\n",
    "counter = Counter(urlwords)\n",
    "print(\"Word frequencies in title braces with frequency > 5.\")\n",
    "for urlword, count in counter.items():\n",
    "    if count > 5:\n",
    "        print(\"  \"+urlword + \" : \" + str(count))\n",
    "print()\n",
    "programming_languages = [a for a in ad if '(programming_language)' in a if ad[a][\"Seed\"]]\n",
    "print(str(len(programming_languages)) + \" seed articles have (programming_language)\")"
   ]
  },
  {
   "cell_type": "markdown",
   "metadata": {},
   "source": [
    "### Initial Configuration"
   ]
  },
  {
   "cell_type": "code",
   "execution_count": 31,
   "metadata": {},
   "outputs": [
    {
     "name": "stdout",
     "output_type": "stream",
     "text": [
      "We recalled 19 seed articles that have no positive Infobox!\n"
     ]
    }
   ],
   "source": [
    "# We only consider language to be positive and programming as irrelevant.\n",
    "seed_with_languagetitle = [a for a in ad if '(' in a \n",
    "                               and 'language' in a.split('(')[1].split(')')[0].split('_')\n",
    "                               and ad[a][\"Seed\"]]\n",
    "# We want to check what we gain from URLs\n",
    "exclusive = [a for a in seed_with_languagetitle if a not in seed_infobox_positive]\n",
    "print(\"We recalled \"+str(len(exclusive)) + \" seed articles that have no positive Infobox!\")"
   ]
  },
  {
   "cell_type": "code",
   "execution_count": 33,
   "metadata": {},
   "outputs": [
    {
     "name": "stdout",
     "output_type": "stream",
     "text": [
      "The combined recall for the seed is 80.06230529595015%\n"
     ]
    }
   ],
   "source": [
    "# We compute the combined recall for the seed\n",
    "seed_ibup = [a for a in ad if a in seed_with_languagetitle or a in seed_infobox_positive]\n",
    "print(\"The combined recall for the seed is \" + str(100 * (len(seed_ibup) / len(seed))) + \"%\")"
   ]
  },
  {
   "cell_type": "markdown",
   "metadata": {},
   "source": [
    "### Unseen Data Statistics"
   ]
  },
  {
   "cell_type": "code",
   "execution_count": 39,
   "metadata": {},
   "outputs": [
    {
     "name": "stdout",
     "output_type": "stream",
     "text": [
      "375 articles have 'language' in braces.\n",
      "1045 are indicated as positive by infobox and URL pattern so far.\n"
     ]
    }
   ],
   "source": [
    "# We explore how many language candidates are identified in the complete data set.\n",
    "articles_urlpattern_positive = [a for a in ad if '(' in a and \n",
    "                       'language' in a.split('(')[1].split(')')[0].split('_')]\n",
    "print(str(len(articles_urlpattern_positive)) + \" articles have 'language' in braces.\")\n",
    "articles_ibup = [a for a in ad if ad[a][\"PositiveInfobox\"] or a in articles_urlpattern_positive]\n",
    "print(str(len(articles_ibup)) + \" are indicated as positive by infobox and URL pattern so far.\")"
   ]
  },
  {
   "cell_type": "markdown",
   "metadata": {},
   "source": [
    "### Indicator Contradiction"
   ]
  },
  {
   "cell_type": "code",
   "execution_count": 43,
   "metadata": {},
   "outputs": [
    {
     "name": "stdout",
     "output_type": "stream",
     "text": [
      "59 contradictions!\n",
      "\n",
      "Word frequencies in title braces with frequency > 5.\n",
      "  format : 25\n",
      "  software : 10\n",
      "  file : 18\n"
     ]
    }
   ],
   "source": [
    "# Infobox indicator says yes while URL pattern says no\n",
    "contradict_ibup = [a for a in ad if ad[a][\"PositiveInfobox\"] and a not in articles_urlpattern_positive\n",
    "                  and '(' in a]\n",
    "print(str(len(contradict_ibup)) + \" contradictions!\")\n",
    "print()\n",
    "# We search for missed URL words by frequency analysis.\n",
    "urlwords = [urlword for a in contradict_ibup for urlword in a.split('(')[1].split(')')[0].split('_')]\n",
    "counter = Counter(urlwords)\n",
    "print(\"Word frequencies in title braces with frequency > 5.\")\n",
    "for urlword, count in counter.items():\n",
    "    if count > 5:\n",
    "        print(\"  \"+urlword + \" : \" + str(count))"
   ]
  },
  {
   "cell_type": "code",
   "execution_count": null,
   "metadata": {},
   "outputs": [],
   "source": []
  }
 ],
 "metadata": {
  "kernelspec": {
   "display_name": "Python 3",
   "language": "python",
   "name": "python3"
  },
  "language_info": {
   "codemirror_mode": {
    "name": "ipython",
    "version": 3
   },
   "file_extension": ".py",
   "mimetype": "text/x-python",
   "name": "python",
   "nbconvert_exporter": "python",
   "pygments_lexer": "ipython3",
   "version": "3.7.0"
  }
 },
 "nbformat": 4,
 "nbformat_minor": 1
}
